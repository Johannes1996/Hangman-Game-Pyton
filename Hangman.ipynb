{
 "cells": [
  {
   "cell_type": "code",
   "execution_count": 1,
   "id": "01e24a91",
   "metadata": {},
   "outputs": [],
   "source": [
    "# Python Program to illustrate \n",
    "# Hangman Game\n",
    "import random\n",
    "from collections import Counter\n",
    "import pandas as pd"
   ]
  },
  {
   "cell_type": "code",
   "execution_count": 10,
   "id": "ddde816b",
   "metadata": {},
   "outputs": [
    {
     "name": "stdout",
     "output_type": "stream",
     "text": [
      "showing info https://raw.githubusercontent.com/nltk/nltk_data/gh-pages/index.xml\n"
     ]
    },
    {
     "data": {
      "text/plain": [
       "True"
      ]
     },
     "execution_count": 10,
     "metadata": {},
     "output_type": "execute_result"
    }
   ],
   "source": [
    "import nltk\n",
    "nltk.download()"
   ]
  },
  {
   "cell_type": "code",
   "execution_count": 2,
   "id": "2aceafa1",
   "metadata": {},
   "outputs": [
    {
     "name": "stdout",
     "output_type": "stream",
     "text": [
      "['A', 'a', 'aa', 'aal', 'aalii']\n"
     ]
    }
   ],
   "source": [
    "from nltk.corpus import words\n",
    "word_list = words.words()\n",
    "# prints 236736\n",
    "len(word_list)\n",
    "print(word_list[:5])"
   ]
  },
  {
   "cell_type": "code",
   "execution_count": null,
   "id": "a1d93e37",
   "metadata": {},
   "outputs": [],
   "source": [
    "allwords = word_list\n",
    "  \n",
    "#allwords = allwords.split(' ')\n",
    "# randomly choose a secret word from our \"someWords\" LIST.\n",
    "word = random.choice(allwords)         \n",
    "  \n",
    "if __name__ == '__main__':\n",
    "    print('Guess the word!')\n",
    "      \n",
    "    for i in word:\n",
    "         # For printing the empty spaces for letters of the word\n",
    "        print('_', end = ' ')        \n",
    "    print()\n",
    "  \n",
    "    playing = True\n",
    "     # list for storing the letters guessed by the player\n",
    "    letterGuessed = ''                \n",
    "    chances = len(word) + 2\n",
    "    correct = 0\n",
    "    flag = 0\n",
    "    try:\n",
    "        while (chances != 0) and flag == 0: #flag is updated when the word is correctly guessed \n",
    "            print()\n",
    "            chances -= 1\n",
    "  \n",
    "            try:\n",
    "                guess = str(input('Enter a letter to guess: '))\n",
    "            except:\n",
    "                print('Enter only a letter!')\n",
    "                continue\n",
    "  \n",
    "            # Validation of the guess\n",
    "            if not guess.isalpha():\n",
    "                print('Enter only a LETTER')\n",
    "                continue\n",
    "            elif len(guess) > 1:\n",
    "                print('Enter only a SINGLE letter')\n",
    "                continue\n",
    "            elif guess in letterGuessed:\n",
    "                print('You have already guessed that letter')\n",
    "                continue\n",
    "  \n",
    "  \n",
    "            # If letter is guessed correctly\n",
    "            if guess in word:\n",
    "                k = word.count(guess) #k stores the number of times the guessed letter occurs in the word\n",
    "                for _ in range(k):    \n",
    "                    letterGuessed += guess # The guess letter is added as many times as it occurs\n",
    "  \n",
    "            # Print the word\n",
    "            for char in word:\n",
    "                if char in letterGuessed and (Counter(letterGuessed) != Counter(word)):\n",
    "                    print(char, end = ' ')\n",
    "                    correct += 1\n",
    "                # If user has guessed all the letters\n",
    "                elif (Counter(letterGuessed) == Counter(word)): # Once the correct word is guessed fully, \n",
    "                                                                # the game ends, even if chances remain\n",
    "                    print(\"The word is: \", end=' ')\n",
    "                    print(word)\n",
    "                    flag = 1\n",
    "                    print('Congratulations, You won!')\n",
    "                    break # To break out of the for loop\n",
    "                    break # To break out of the while loop\n",
    "                else:\n",
    "                    print('_', end = ' ')\n",
    "  \n",
    "              \n",
    "  \n",
    "        # If user has used all of his chances\n",
    "        if chances <= 0 and (Counter(letterGuessed) != Counter(word)):\n",
    "            print()\n",
    "            print('You lost! Try again..')\n",
    "            print('The word was {}'.format(word))\n",
    "  \n",
    "    except KeyboardInterrupt:\n",
    "        print()\n",
    "        print('Bye! Try again.')\n",
    "        exit()"
   ]
  },
  {
   "cell_type": "code",
   "execution_count": null,
   "id": "dc68074f",
   "metadata": {},
   "outputs": [],
   "source": []
  }
 ],
 "metadata": {
  "kernelspec": {
   "display_name": "Python 3 (ipykernel)",
   "language": "python",
   "name": "python3"
  },
  "language_info": {
   "codemirror_mode": {
    "name": "ipython",
    "version": 3
   },
   "file_extension": ".py",
   "mimetype": "text/x-python",
   "name": "python",
   "nbconvert_exporter": "python",
   "pygments_lexer": "ipython3",
   "version": "3.9.7"
  }
 },
 "nbformat": 4,
 "nbformat_minor": 5
}
